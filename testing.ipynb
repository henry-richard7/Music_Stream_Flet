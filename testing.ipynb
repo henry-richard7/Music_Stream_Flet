{
 "cells": [
  {
   "cell_type": "code",
   "execution_count": 1,
   "metadata": {},
   "outputs": [],
   "source": [
    "from API import YoutubeMusicApi"
   ]
  },
  {
   "cell_type": "code",
   "execution_count": 2,
   "metadata": {},
   "outputs": [],
   "source": [
    "yt_api = YoutubeMusicApi()"
   ]
  },
  {
   "cell_type": "code",
   "execution_count": 8,
   "metadata": {},
   "outputs": [
    {
     "data": {
      "text/plain": [
       "{'video_id': 'ePI4jH8pDb4',\n",
       " 'song_name': 'Adrenaline',\n",
       " 'artist_name': 'Solar (MAMAMOO)',\n",
       " 'album_name': 'VINCENZO OST Part 3',\n",
       " 'art': 'https://lh3.googleusercontent.com/T8x8cBtKOpSdt1cxsSpKjJOXUItCA8GfznduObQi391RD7--SpE2FamUusCsrcPbMD9tsu5mOvf6NNMZ=w512-h512-l90-rj'}"
      ]
     },
     "execution_count": 8,
     "metadata": {},
     "output_type": "execute_result"
    }
   ],
   "source": [
    "yt_api.search(\"Vincenzo\")[\"results\"][0]"
   ]
  },
  {
   "cell_type": "code",
   "execution_count": 14,
   "metadata": {},
   "outputs": [
    {
     "data": {
      "text/plain": [
       "[{'playlist_name': 'African',\n",
       "  'playlist_color': '00a513',\n",
       "  'playlist_params': 'ggMPOg1uX0UzWGxlRE5jMDVk'},\n",
       " {'playlist_name': 'Arabic',\n",
       "  'playlist_color': 'e24b00',\n",
       "  'playlist_params': 'ggMPOg1uX3VOQWxsblVZTFNE'},\n",
       " {'playlist_name': 'Assamese & Odia',\n",
       "  'playlist_color': 'a4ffa4',\n",
       "  'playlist_params': 'ggMPOg1uX2VOSm9EVllPRjFN'},\n",
       " {'playlist_name': 'Bengali',\n",
       "  'playlist_color': 'ffe780',\n",
       "  'playlist_params': 'ggMPOg1uX1ZEZzBvYUp0TGNI'},\n",
       " {'playlist_name': 'Bhojpuri',\n",
       "  'playlist_color': 'aa09aa',\n",
       "  'playlist_params': 'ggMPOg1uX05iYWtoenBuUkZX'},\n",
       " {'playlist_name': 'Carnatic Classical',\n",
       "  'playlist_color': 'ff8d40',\n",
       "  'playlist_params': 'ggMPOg1uX2tuQ3JyczRkeEJK'},\n",
       " {'playlist_name': 'Classical',\n",
       "  'playlist_color': 'cccccc',\n",
       "  'playlist_params': 'ggMPOg1uX1N4VmduTmdUR3dm'},\n",
       " {'playlist_name': 'Country & Americana',\n",
       "  'playlist_color': '337dff',\n",
       "  'playlist_params': 'ggMPOg1uX1RXcFlyZEpRb1d3'},\n",
       " {'playlist_name': 'Dance & Electronic',\n",
       "  'playlist_color': '0092bf',\n",
       "  'playlist_params': 'ggMPOg1uX1NPTld3SDN3WGs4'},\n",
       " {'playlist_name': 'Decades',\n",
       "  'playlist_color': 'a4ffa4',\n",
       "  'playlist_params': 'ggMPOg1uX253QXk4VXN5NGdj'},\n",
       " {'playlist_name': 'Devotional',\n",
       "  'playlist_color': '606060',\n",
       "  'playlist_params': 'ggMPOg1uX3g1dEo4cmZVY1Jm'},\n",
       " {'playlist_name': 'Family',\n",
       "  'playlist_color': '0092bf',\n",
       "  'playlist_params': 'ggMPOg1uXzMyY3J2SGM0bVh5'},\n",
       " {'playlist_name': 'Folk & Acoustic',\n",
       "  'playlist_color': '00a513',\n",
       "  'playlist_params': 'ggMPOg1uXzBTRFBmQ3N4b0R6'},\n",
       " {'playlist_name': 'Ghazal/Sufi',\n",
       "  'playlist_color': '4deeff',\n",
       "  'playlist_params': 'ggMPOg1uX1FyMnBXRmhFakpn'},\n",
       " {'playlist_name': 'Gujarati',\n",
       "  'playlist_color': 'e24b00',\n",
       "  'playlist_params': 'ggMPOg1uX0RXaUs0U3dTcWtD'},\n",
       " {'playlist_name': 'Haryanvi',\n",
       "  'playlist_color': '0092bf',\n",
       "  'playlist_params': 'ggMPOg1uXzVTb3lITFZwQ2w1'},\n",
       " {'playlist_name': 'Hindi',\n",
       "  'playlist_color': 'ffe780',\n",
       "  'playlist_params': 'ggMPOg1uX2ZvbzNJMzJwRkFT'},\n",
       " {'playlist_name': 'Hindustani Classical',\n",
       "  'playlist_color': 'ff78ff',\n",
       "  'playlist_params': 'ggMPOg1uX1FEVXVJSkdrdVgw'},\n",
       " {'playlist_name': 'Hip-Hop',\n",
       "  'playlist_color': 'e24b00',\n",
       "  'playlist_params': 'ggMPOg1uX0M2dmRieXNxTW1s'},\n",
       " {'playlist_name': 'Indian Indie',\n",
       "  'playlist_color': 'cccccc',\n",
       "  'playlist_params': 'ggMPOg1uX3FzMXBrNWlUMWNH'},\n",
       " {'playlist_name': 'Indian Pop',\n",
       "  'playlist_color': 'a4ffa4',\n",
       "  'playlist_params': 'ggMPOg1uXzNleFNpSmk2TTcy'},\n",
       " {'playlist_name': 'Indie & Alternative',\n",
       "  'playlist_color': 'cccccc',\n",
       "  'playlist_params': 'ggMPOg1uX21NWWpBbU01SDgy'},\n",
       " {'playlist_name': 'J-Pop',\n",
       "  'playlist_color': 'ff78ff',\n",
       "  'playlist_params': 'ggMPOg1uXzAwSjVITDBZckJR'},\n",
       " {'playlist_name': 'Jazz',\n",
       "  'playlist_color': 'a4c5ff',\n",
       "  'playlist_params': 'ggMPOg1uX3lPcDFRaE9wM1BS'},\n",
       " {'playlist_name': 'K-Pop',\n",
       "  'playlist_color': 'b47bff',\n",
       "  'playlist_params': 'ggMPOg1uX0JrbjBDOFFPSzJW'},\n",
       " {'playlist_name': 'Kannada',\n",
       "  'playlist_color': 'ffc200',\n",
       "  'playlist_params': 'ggMPOg1uX29zOEp0MzY3djA5'},\n",
       " {'playlist_name': 'Latin',\n",
       "  'playlist_color': 'ffc200',\n",
       "  'playlist_params': 'ggMPOg1uX29wWTRjMHV1dWN5'},\n",
       " {'playlist_name': 'Malayalam',\n",
       "  'playlist_color': '00a513',\n",
       "  'playlist_params': 'ggMPOg1uX050dDRiSWN3R1ZN'},\n",
       " {'playlist_name': 'Marathi',\n",
       "  'playlist_color': 'b47bff',\n",
       "  'playlist_params': 'ggMPOg1uX2Y4V2dyOWVRUHZm'},\n",
       " {'playlist_name': 'Metal',\n",
       "  'playlist_color': '8c8c8c',\n",
       "  'playlist_params': 'ggMPOg1uXzdlSXhKZ0hMV1Z4'},\n",
       " {'playlist_name': 'Monsoon',\n",
       "  'playlist_color': 'ffe780',\n",
       "  'playlist_params': 'ggMPOg1uX2FGWmM5SHVqYlJX'},\n",
       " {'playlist_name': 'Pop',\n",
       "  'playlist_color': 'ff78ff',\n",
       "  'playlist_params': 'ggMPOg1uX1lLQkxHbHhWQUUy'},\n",
       " {'playlist_name': 'Punjabi',\n",
       "  'playlist_color': 'e24b00',\n",
       "  'playlist_params': 'ggMPOg1uX1ZKNkRodjF2YWxv'},\n",
       " {'playlist_name': 'R&B & Soul',\n",
       "  'playlist_color': '7b3edb',\n",
       "  'playlist_params': 'ggMPOg1uX2JxQ2hxc2J5UFhR'},\n",
       " {'playlist_name': 'Reggae & Caribbean',\n",
       "  'playlist_color': 'ffe780',\n",
       "  'playlist_params': 'ggMPOg1uX1JUc2lFcDFuUUth'},\n",
       " {'playlist_name': 'Rock',\n",
       "  'playlist_color': 'cc0000',\n",
       "  'playlist_params': 'ggMPOg1uXzJKTm5jUEZ5Uzlu'},\n",
       " {'playlist_name': 'Tamil',\n",
       "  'playlist_color': 'cc0000',\n",
       "  'playlist_params': 'ggMPOg1uX2p2emtjU3J3ZVFB'},\n",
       " {'playlist_name': 'Telugu',\n",
       "  'playlist_color': 'ff78ff',\n",
       "  'playlist_params': 'ggMPOg1uX0syaEVmTXhSOVl6'}]"
      ]
     },
     "execution_count": 14,
     "metadata": {},
     "output_type": "execute_result"
    }
   ],
   "source": [
    "yt_api.moods_and_genres()[\"Genres\"]"
   ]
  },
  {
   "cell_type": "code",
   "execution_count": 17,
   "metadata": {},
   "outputs": [
    {
     "data": {
      "text/plain": [
       "[{'Featured playlists': [{'thumbnail': 'https://lh3.googleusercontent.com/HWrN9yMdyB2wZRaHQJNiIXdqg-uk2JU3nOPBX_sWC5wMdnXhEuLK5S7cw07pB9GQ-Sj1BY6waNs0sS3h=w544-h544-l90-rj',\n",
       "    'song_name': 'Iconic Odia Hits',\n",
       "    'artist_name': 'Humane Sagar, Ira Mohanty, Abhijeet Majumdar, Amrita Nayak',\n",
       "    'playlist_id': 'VLRDCLAK5uy_kVWbkaXndqcnODUSqoiLGCtyf2qXK2eko',\n",
       "    'type': 'playlist'},\n",
       "   {'thumbnail': 'https://lh3.googleusercontent.com/lBB3UHLxj9x87PU4QjTBBiknFVbPdWrUQVXC_4JWdKhwrGWFEnO13qrMUBYJzeSCRjiy1JRrzMH7MycG=w544-h544-l90-rj',\n",
       "    'song_name': 'Chena Poda Special',\n",
       "    'artist_name': 'Udit Narayan, Aseema Panda, Humane Sagar, Nibedita',\n",
       "    'playlist_id': 'VLRDCLAK5uy_kuqmc28KUiNeq156N3XSX08s_o3O-K2t4',\n",
       "    'type': 'playlist'},\n",
       "   {'thumbnail': 'https://lh3.googleusercontent.com/z7dgDBqBJNqS3nTvST5G427HvuGpd4AUt-dXtck-4kxKK5093BnJ4-qJMR1aXubdc9EkkIHQyqRRtQ=w544-h544-l90-rj',\n",
       "    'song_name': 'Bhut Jholokia Dance Hits',\n",
       "    'artist_name': 'Neel Akash, Achurjya Borpatra, Zubeen Garg, Babu Baruah',\n",
       "    'playlist_id': 'VLRDCLAK5uy_nL6TBt9wYlcFzHLfaMLfY6VZVQH9AldPg',\n",
       "    'type': 'playlist'},\n",
       "   {'thumbnail': 'https://lh3.googleusercontent.com/si1Q2V02Z1AFQSg3VdvC1Iy08FY0lJ_-0UPYJJzDqsIKu6RgwDAdxzzgIysrbqoW4_1Xv0eMj5IerQ=w544-h544-l90-rj',\n",
       "    'song_name': 'Axom Bihu Geet',\n",
       "    'artist_name': 'Anupam Saikia, Zubeen Garg, Santa Uzir, Abhishruti',\n",
       "    'playlist_id': 'VLRDCLAK5uy_mXeTHp69Naq7HQ-COEk67AIRhiKxPNVuM',\n",
       "    'type': 'playlist'},\n",
       "   {'thumbnail': 'https://lh3.googleusercontent.com/sRU0yC-LW-SAJaeoUxwQoMUrHKlEeoIkpuT7iFeDdrOVkx_fyGvReStNjRBTbW3UWg2qoQySK8LKpYk=w544-h544-l90-rj',\n",
       "    'song_name': 'Pahadi Geet',\n",
       "    'artist_name': 'Bijoy Bhuyan, Khagen Mahanta, Vreegu Kashyap, Krishna Mani Nath',\n",
       "    'playlist_id': 'VLRDCLAK5uy_nKTpVKxeFIn9ThT-h-xpziiU3GFGPJq8s',\n",
       "    'type': 'playlist'},\n",
       "   {'thumbnail': 'https://lh3.googleusercontent.com/0sN4p-zYG1UtCh0kD4mgKCMfwwE1RLDzdSYrPuKemiEqaCy5i3UyoZnTwcJnFH8sSUkSIB0_4ZzDJYo=w544-h544-l90-rj',\n",
       "    'song_name': 'Odia Folk Hits',\n",
       "    'artist_name': 'Saila Vama, Md. Ajiz, Arabinda Muduli, Vani Jairam',\n",
       "    'playlist_id': 'VLRDCLAK5uy_kwo_-IWmLnUixaeG7SWLiAyeuAM58SqD8',\n",
       "    'type': 'playlist'},\n",
       "   {'thumbnail': 'https://lh3.googleusercontent.com/fvgGvZQeIUvchx3jRoHn8irTmPb5HZW2ZsPOHvhgZP4imCFQ9A_r23verp2eGtPaHVwp1PdM9_q8-2o=w544-h544-l90-rj',\n",
       "    'song_name': 'Axomi Kirtans',\n",
       "    'artist_name': 'Rameshwar Pathak, Anima Chaudhry, Papon, Krishna Mani Nath',\n",
       "    'playlist_id': 'VLRDCLAK5uy_kxtTGJuDJJPjovGi3nNL71EhJa-AqLA28',\n",
       "    'type': 'playlist'},\n",
       "   {'thumbnail': 'https://lh3.googleusercontent.com/My46gg5-CCXeLA5nNVncuPQXppSAG8p2vssHJ0HbBDBrBYMBajDX-OOe1Fm7KZoDpcf26cGhIbf0QGw=w544-h544-l90-rj',\n",
       "    'song_name': 'Love Songs: Odia',\n",
       "    'artist_name': 'Humane Sagar, Nibedita, Sourin Bhatt, Udit Narayan',\n",
       "    'playlist_id': 'VLRDCLAK5uy_nHREehTp-VRCKan26oFAy2U4y8o66qYJE',\n",
       "    'type': 'playlist'}]},\n",
       " {'Community playlists': [{'thumbnail': 'https://yt3.ggpht.com/3LESN-3M7KlwESgJJxgSz9P1Tghx8CGsyWAp7szfgn0GxgIxmCEGzdIcXQqQL_H7xhgRjX8tTbjb=s576',\n",
       "    'song_name': 'আমী অসমিয়া',\n",
       "    'artist_name': 'Playlist',\n",
       "    'playlist_id': 'VLPLfFPxPrUIiiPKTS09pW8NvBdvTGMJ77s_',\n",
       "    'type': 'playlist'},\n",
       "   {'thumbnail': 'https://yt3.googleusercontent.com/BVy5cQ1K-IDyZ3WdXHW4miC_NenxZDh-bCqgWcFsFKHqIyAu1CG6K7gsvv6cQ8ek3oCvjP-sTA=s576',\n",
       "    'song_name': 'Odia Dance Hits',\n",
       "    'artist_name': 'Playlist',\n",
       "    'playlist_id': 'VLPL3HNZiADew946l8D4lgYIi88G0JoYMWJ5',\n",
       "    'type': 'playlist'},\n",
       "   {'thumbnail': 'https://yt3.googleusercontent.com/BYfxSgLX1owsXOP3LkbZoChQ5OWU_l_U5LFnuxYdSMfA-yBzkMhQM0rNThfsj0mIISzOuB47dBc=s576',\n",
       "    'song_name': 'নামতি',\n",
       "    'artist_name': 'Playlist',\n",
       "    'playlist_id': 'VLPLBye4y25_kzODWRKrbCnV7D2789142dhm',\n",
       "    'type': 'playlist'},\n",
       "   {'thumbnail': 'https://yt3.googleusercontent.com/B5Ng61R5UxjnMqgyB9j2fwwjW7GDJEliXFH_m-zgllZGOC4_sTF8ic4YbBw4rdCsdR88G6o6RVs=s576',\n",
       "    'song_name': 'Old Odia Romantic',\n",
       "    'artist_name': 'Playlist',\n",
       "    'playlist_id': 'VLPLLrRwynZZvIbwXWd4hshBAAkJB3Mxc5zH',\n",
       "    'type': 'playlist'}]}]"
      ]
     },
     "execution_count": 17,
     "metadata": {},
     "output_type": "execute_result"
    }
   ],
   "source": [
    "yt_api.home(page=\"playlist\", param_id=\"ggMPOg1uX2VOSm9EVllPRjFN\")"
   ]
  },
  {
   "cell_type": "code",
   "execution_count": null,
   "metadata": {},
   "outputs": [],
   "source": []
  }
 ],
 "metadata": {
  "kernelspec": {
   "display_name": "Python 3",
   "language": "python",
   "name": "python3"
  },
  "language_info": {
   "codemirror_mode": {
    "name": "ipython",
    "version": 3
   },
   "file_extension": ".py",
   "mimetype": "text/x-python",
   "name": "python",
   "nbconvert_exporter": "python",
   "pygments_lexer": "ipython3",
   "version": "3.11.9"
  }
 },
 "nbformat": 4,
 "nbformat_minor": 2
}
